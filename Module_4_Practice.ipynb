{
  "nbformat": 4,
  "nbformat_minor": 0,
  "metadata": {
    "colab": {
      "provenance": [],
      "authorship_tag": "ABX9TyMixj2bXSkP60ueHlverK5C",
      "include_colab_link": true
    },
    "kernelspec": {
      "name": "python3",
      "display_name": "Python 3"
    },
    "language_info": {
      "name": "python"
    }
  },
  "cells": [
    {
      "cell_type": "markdown",
      "metadata": {
        "id": "view-in-github",
        "colab_type": "text"
      },
      "source": [
        "<a href=\"https://colab.research.google.com/github/pratik4511/Lab/blob/main/Module_4_Practice.ipynb\" target=\"_parent\"><img src=\"https://colab.research.google.com/assets/colab-badge.svg\" alt=\"Open In Colab\"/></a>"
      ]
    },
    {
      "cell_type": "markdown",
      "source": [
        "# **PHASE - 1 Installing suitable libraries.**"
      ],
      "metadata": {
        "id": "Y-eomnwI6c2g"
      }
    },
    {
      "cell_type": "code",
      "execution_count": 1,
      "metadata": {
        "id": "QlVGmwcq5szI"
      },
      "outputs": [],
      "source": [
        "# innstall java\n",
        "!apt-get install openjdk-8-jdk-headless -qq > /dev/null\n",
        "\n",
        "# install spark (change the version number if needed)\n",
        "!wget -q https://archive.apache.org/dist/spark/spark-3.0.0/spark-3.0.0-bin-hadoop3.2.tgz\n",
        "\n",
        "# unzip the spark file to the current folder\n",
        "!tar xf spark-3.0.0-bin-hadoop3.2.tgz\n",
        "\n",
        "# set your spark folder to your system path environment. \n",
        "import os\n",
        "os.environ[\"JAVA_HOME\"] = \"/usr/lib/jvm/java-8-openjdk-amd64\"\n",
        "os.environ[\"SPARK_HOME\"] = \"/content/spark-3.0.0-bin-hadoop3.2\"\n",
        "\n",
        "\n",
        "# install findspark using pip\n",
        "!pip install -q findspark\n",
        "     \n",
        "\n",
        "import findspark\n",
        "findspark.init()\n",
        "from pyspark.sql import SparkSession\n",
        "spark = SparkSession.builder.master(\"local[*]\").getOrCreate()\n",
        "     "
      ]
    },
    {
      "cell_type": "code",
      "source": [
        "from pyspark import SparkContext                                    \n",
        "from pyspark.sql import SparkSession, Window, Row                   \n",
        "from pyspark.sql import functions as F                              \n",
        "from pyspark.sql.functions import col, isnan, when, count           \n",
        "from pyspark.sql.functions import *                                 \n",
        "from pyspark.sql.types import *          "
      ],
      "metadata": {
        "id": "y-nuC_3k6KXG"
      },
      "execution_count": 2,
      "outputs": []
    },
    {
      "cell_type": "code",
      "source": [
        "import matplotlib.pyplot as plt                                     # Popular plotting library\n",
        "%matplotlib inline                                                  \n",
        "import seaborn as sns                                               # Advanced plotting library\n"
      ],
      "metadata": {
        "id": "xO60yENW6Opj"
      },
      "execution_count": 6,
      "outputs": []
    },
    {
      "cell_type": "code",
      "source": [
        "# Building a spark app/session\n",
        "spark = SparkSession.builder.appName(\"CarsSpark\").getOrCreate()\n",
        "\n",
        "# single cluster information\n",
        "spark"
      ],
      "metadata": {
        "colab": {
          "base_uri": "https://localhost:8080/",
          "height": 216
        },
        "id": "AKisDptM6ytM",
        "outputId": "826a62f3-1ce4-4926-8712-038850459055"
      },
      "execution_count": 8,
      "outputs": [
        {
          "output_type": "execute_result",
          "data": {
            "text/plain": [
              "<pyspark.sql.session.SparkSession at 0x7f77b95fbf40>"
            ],
            "text/html": [
              "\n",
              "            <div>\n",
              "                <p><b>SparkSession - in-memory</b></p>\n",
              "                \n",
              "        <div>\n",
              "            <p><b>SparkContext</b></p>\n",
              "\n",
              "            <p><a href=\"http://3bd7c9d6f995:4040\">Spark UI</a></p>\n",
              "\n",
              "            <dl>\n",
              "              <dt>Version</dt>\n",
              "                <dd><code>v3.0.0</code></dd>\n",
              "              <dt>Master</dt>\n",
              "                <dd><code>local[*]</code></dd>\n",
              "              <dt>AppName</dt>\n",
              "                <dd><code>pyspark-shell</code></dd>\n",
              "            </dl>\n",
              "        </div>\n",
              "        \n",
              "            </div>\n",
              "        "
            ]
          },
          "metadata": {},
          "execution_count": 8
        }
      ]
    },
    {
      "cell_type": "markdown",
      "source": [
        "## **PHASE - 2 Dataset & Description.**"
      ],
      "metadata": {
        "id": "NMbPnx066kgx"
      }
    },
    {
      "cell_type": "code",
      "source": [
        "# Fetching the data\n",
        "\n",
        "from google.colab import files\n",
        "files.upload()"
      ],
      "metadata": {
        "colab": {
          "base_uri": "https://localhost:8080/",
          "height": 1000
        },
        "id": "-UScnNvt6n5g",
        "outputId": "d4ef498b-9f5c-4dec-b739-e50c4e9d95ae"
      },
      "execution_count": 12,
      "outputs": [
        {
          "output_type": "display_data",
          "data": {
            "text/plain": [
              "<IPython.core.display.HTML object>"
            ],
            "text/html": [
              "\n",
              "     <input type=\"file\" id=\"files-fceae5bf-a6eb-4aae-9793-eb6d686684f4\" name=\"files[]\" multiple disabled\n",
              "        style=\"border:none\" />\n",
              "     <output id=\"result-fceae5bf-a6eb-4aae-9793-eb6d686684f4\">\n",
              "      Upload widget is only available when the cell has been executed in the\n",
              "      current browser session. Please rerun this cell to enable.\n",
              "      </output>\n",
              "      <script>// Copyright 2017 Google LLC\n",
              "//\n",
              "// Licensed under the Apache License, Version 2.0 (the \"License\");\n",
              "// you may not use this file except in compliance with the License.\n",
              "// You may obtain a copy of the License at\n",
              "//\n",
              "//      http://www.apache.org/licenses/LICENSE-2.0\n",
              "//\n",
              "// Unless required by applicable law or agreed to in writing, software\n",
              "// distributed under the License is distributed on an \"AS IS\" BASIS,\n",
              "// WITHOUT WARRANTIES OR CONDITIONS OF ANY KIND, either express or implied.\n",
              "// See the License for the specific language governing permissions and\n",
              "// limitations under the License.\n",
              "\n",
              "/**\n",
              " * @fileoverview Helpers for google.colab Python module.\n",
              " */\n",
              "(function(scope) {\n",
              "function span(text, styleAttributes = {}) {\n",
              "  const element = document.createElement('span');\n",
              "  element.textContent = text;\n",
              "  for (const key of Object.keys(styleAttributes)) {\n",
              "    element.style[key] = styleAttributes[key];\n",
              "  }\n",
              "  return element;\n",
              "}\n",
              "\n",
              "// Max number of bytes which will be uploaded at a time.\n",
              "const MAX_PAYLOAD_SIZE = 100 * 1024;\n",
              "\n",
              "function _uploadFiles(inputId, outputId) {\n",
              "  const steps = uploadFilesStep(inputId, outputId);\n",
              "  const outputElement = document.getElementById(outputId);\n",
              "  // Cache steps on the outputElement to make it available for the next call\n",
              "  // to uploadFilesContinue from Python.\n",
              "  outputElement.steps = steps;\n",
              "\n",
              "  return _uploadFilesContinue(outputId);\n",
              "}\n",
              "\n",
              "// This is roughly an async generator (not supported in the browser yet),\n",
              "// where there are multiple asynchronous steps and the Python side is going\n",
              "// to poll for completion of each step.\n",
              "// This uses a Promise to block the python side on completion of each step,\n",
              "// then passes the result of the previous step as the input to the next step.\n",
              "function _uploadFilesContinue(outputId) {\n",
              "  const outputElement = document.getElementById(outputId);\n",
              "  const steps = outputElement.steps;\n",
              "\n",
              "  const next = steps.next(outputElement.lastPromiseValue);\n",
              "  return Promise.resolve(next.value.promise).then((value) => {\n",
              "    // Cache the last promise value to make it available to the next\n",
              "    // step of the generator.\n",
              "    outputElement.lastPromiseValue = value;\n",
              "    return next.value.response;\n",
              "  });\n",
              "}\n",
              "\n",
              "/**\n",
              " * Generator function which is called between each async step of the upload\n",
              " * process.\n",
              " * @param {string} inputId Element ID of the input file picker element.\n",
              " * @param {string} outputId Element ID of the output display.\n",
              " * @return {!Iterable<!Object>} Iterable of next steps.\n",
              " */\n",
              "function* uploadFilesStep(inputId, outputId) {\n",
              "  const inputElement = document.getElementById(inputId);\n",
              "  inputElement.disabled = false;\n",
              "\n",
              "  const outputElement = document.getElementById(outputId);\n",
              "  outputElement.innerHTML = '';\n",
              "\n",
              "  const pickedPromise = new Promise((resolve) => {\n",
              "    inputElement.addEventListener('change', (e) => {\n",
              "      resolve(e.target.files);\n",
              "    });\n",
              "  });\n",
              "\n",
              "  const cancel = document.createElement('button');\n",
              "  inputElement.parentElement.appendChild(cancel);\n",
              "  cancel.textContent = 'Cancel upload';\n",
              "  const cancelPromise = new Promise((resolve) => {\n",
              "    cancel.onclick = () => {\n",
              "      resolve(null);\n",
              "    };\n",
              "  });\n",
              "\n",
              "  // Wait for the user to pick the files.\n",
              "  const files = yield {\n",
              "    promise: Promise.race([pickedPromise, cancelPromise]),\n",
              "    response: {\n",
              "      action: 'starting',\n",
              "    }\n",
              "  };\n",
              "\n",
              "  cancel.remove();\n",
              "\n",
              "  // Disable the input element since further picks are not allowed.\n",
              "  inputElement.disabled = true;\n",
              "\n",
              "  if (!files) {\n",
              "    return {\n",
              "      response: {\n",
              "        action: 'complete',\n",
              "      }\n",
              "    };\n",
              "  }\n",
              "\n",
              "  for (const file of files) {\n",
              "    const li = document.createElement('li');\n",
              "    li.append(span(file.name, {fontWeight: 'bold'}));\n",
              "    li.append(span(\n",
              "        `(${file.type || 'n/a'}) - ${file.size} bytes, ` +\n",
              "        `last modified: ${\n",
              "            file.lastModifiedDate ? file.lastModifiedDate.toLocaleDateString() :\n",
              "                                    'n/a'} - `));\n",
              "    const percent = span('0% done');\n",
              "    li.appendChild(percent);\n",
              "\n",
              "    outputElement.appendChild(li);\n",
              "\n",
              "    const fileDataPromise = new Promise((resolve) => {\n",
              "      const reader = new FileReader();\n",
              "      reader.onload = (e) => {\n",
              "        resolve(e.target.result);\n",
              "      };\n",
              "      reader.readAsArrayBuffer(file);\n",
              "    });\n",
              "    // Wait for the data to be ready.\n",
              "    let fileData = yield {\n",
              "      promise: fileDataPromise,\n",
              "      response: {\n",
              "        action: 'continue',\n",
              "      }\n",
              "    };\n",
              "\n",
              "    // Use a chunked sending to avoid message size limits. See b/62115660.\n",
              "    let position = 0;\n",
              "    do {\n",
              "      const length = Math.min(fileData.byteLength - position, MAX_PAYLOAD_SIZE);\n",
              "      const chunk = new Uint8Array(fileData, position, length);\n",
              "      position += length;\n",
              "\n",
              "      const base64 = btoa(String.fromCharCode.apply(null, chunk));\n",
              "      yield {\n",
              "        response: {\n",
              "          action: 'append',\n",
              "          file: file.name,\n",
              "          data: base64,\n",
              "        },\n",
              "      };\n",
              "\n",
              "      let percentDone = fileData.byteLength === 0 ?\n",
              "          100 :\n",
              "          Math.round((position / fileData.byteLength) * 100);\n",
              "      percent.textContent = `${percentDone}% done`;\n",
              "\n",
              "    } while (position < fileData.byteLength);\n",
              "  }\n",
              "\n",
              "  // All done.\n",
              "  yield {\n",
              "    response: {\n",
              "      action: 'complete',\n",
              "    }\n",
              "  };\n",
              "}\n",
              "\n",
              "scope.google = scope.google || {};\n",
              "scope.google.colab = scope.google.colab || {};\n",
              "scope.google.colab._files = {\n",
              "  _uploadFiles,\n",
              "  _uploadFilesContinue,\n",
              "};\n",
              "})(self);\n",
              "</script> "
            ]
          },
          "metadata": {}
        },
        {
          "output_type": "stream",
          "name": "stdout",
          "text": [
            "Saving car_data.csv to car_data.csv\n"
          ]
        },
        {
          "output_type": "execute_result",
          "data": {
            "text/plain": [
              "{'car_data.csv': b'Car_Name,Year,Selling_Price,Present_Price,Kms_Driven,Fuel_Type,Seller_Type,Transmission,Owner\\r\\nritz,2014,3.35,5.59,27000,Petrol,Dealer,Manual,0\\r\\nsx4,2013,4.75,9.54,43000,Diesel,Dealer,Manual,0\\r\\nciaz,2017,7.25,9.85,6900,Petrol,Dealer,Manual,0\\r\\nwagon r,2011,2.85,4.15,5200,Petrol,Dealer,Manual,0\\r\\nswift,2014,4.6,6.87,42450,Diesel,Dealer,Manual,0\\r\\nvitara brezza,2018,9.25,9.83,2071,Diesel,Dealer,Manual,0\\r\\nciaz,2015,6.75,8.12,18796,Petrol,Dealer,Manual,0\\r\\ns cross,2015,6.5,8.61,33429,Diesel,Dealer,Manual,0\\r\\nciaz,2016,8.75,8.89,20273,Diesel,Dealer,Manual,0\\r\\nciaz,2015,7.45,8.92,42367,Diesel,Dealer,Manual,0\\r\\nalto 800,2017,2.85,3.6,2135,Petrol,Dealer,Manual,0\\r\\nciaz,2015,6.85,10.38,51000,Diesel,Dealer,Manual,0\\r\\nciaz,2015,7.5,9.94,15000,Petrol,Dealer,Automatic,0\\r\\nertiga,2015,6.1,7.71,26000,Petrol,Dealer,Manual,0\\r\\ndzire,2009,2.25,7.21,77427,Petrol,Dealer,Manual,0\\r\\nertiga,2016,7.75,10.79,43000,Diesel,Dealer,Manual,0\\r\\nertiga,2015,7.25,10.79,41678,Diesel,Dealer,Manual,0\\r\\nertiga,2016,7.75,10.79,43000,Diesel,Dealer,Manual,0\\r\\nwagon r,2015,3.25,5.09,35500,CNG,Dealer,Manual,0\\r\\nsx4,2010,2.65,7.98,41442,Petrol,Dealer,Manual,0\\r\\nalto k10,2016,2.85,3.95,25000,Petrol,Dealer,Manual,0\\r\\nignis,2017,4.9,5.71,2400,Petrol,Dealer,Manual,0\\r\\nsx4,2011,4.4,8.01,50000,Petrol,Dealer,Automatic,0\\r\\nalto k10,2014,2.5,3.46,45280,Petrol,Dealer,Manual,0\\r\\nwagon r,2013,2.9,4.41,56879,Petrol,Dealer,Manual,0\\r\\nswift,2011,3,4.99,20000,Petrol,Dealer,Manual,0\\r\\nswift,2013,4.15,5.87,55138,Petrol,Dealer,Manual,0\\r\\nswift,2017,6,6.49,16200,Petrol,Individual,Manual,0\\r\\nalto k10,2010,1.95,3.95,44542,Petrol,Dealer,Manual,0\\r\\nciaz,2015,7.45,10.38,45000,Diesel,Dealer,Manual,0\\r\\nritz,2012,3.1,5.98,51439,Diesel,Dealer,Manual,0\\r\\nritz,2011,2.35,4.89,54200,Petrol,Dealer,Manual,0\\r\\nswift,2014,4.95,7.49,39000,Diesel,Dealer,Manual,0\\r\\nertiga,2014,6,9.95,45000,Diesel,Dealer,Manual,0\\r\\ndzire,2014,5.5,8.06,45000,Diesel,Dealer,Manual,0\\r\\nsx4,2011,2.95,7.74,49998,CNG,Dealer,Manual,0\\r\\ndzire,2015,4.65,7.2,48767,Petrol,Dealer,Manual,0\\r\\n800,2003,0.35,2.28,127000,Petrol,Individual,Manual,0\\r\\nalto k10,2016,3,3.76,10079,Petrol,Dealer,Manual,0\\r\\nsx4,2003,2.25,7.98,62000,Petrol,Dealer,Manual,0\\r\\nbaleno,2016,5.85,7.87,24524,Petrol,Dealer,Automatic,0\\r\\nalto k10,2014,2.55,3.98,46706,Petrol,Dealer,Manual,0\\r\\nsx4,2008,1.95,7.15,58000,Petrol,Dealer,Manual,0\\r\\ndzire,2014,5.5,8.06,45780,Diesel,Dealer,Manual,0\\r\\nomni,2012,1.25,2.69,50000,Petrol,Dealer,Manual,0\\r\\nciaz,2014,7.5,12.04,15000,Petrol,Dealer,Automatic,0\\r\\nritz,2013,2.65,4.89,64532,Petrol,Dealer,Manual,0\\r\\nwagon r,2006,1.05,4.15,65000,Petrol,Dealer,Manual,0\\r\\nertiga,2015,5.8,7.71,25870,Petrol,Dealer,Manual,0\\r\\nciaz,2017,7.75,9.29,37000,Petrol,Dealer,Automatic,0\\r\\nfortuner,2012,14.9,30.61,104707,Diesel,Dealer,Automatic,0\\r\\nfortuner,2015,23,30.61,40000,Diesel,Dealer,Automatic,0\\r\\ninnova,2017,18,19.77,15000,Diesel,Dealer,Automatic,0\\r\\nfortuner,2013,16,30.61,135000,Diesel,Individual,Automatic,0\\r\\ninnova,2005,2.75,10.21,90000,Petrol,Individual,Manual,0\\r\\ncorolla altis,2009,3.6,15.04,70000,Petrol,Dealer,Automatic,0\\r\\netios cross,2015,4.5,7.27,40534,Petrol,Dealer,Manual,0\\r\\ncorolla altis,2010,4.75,18.54,50000,Petrol,Dealer,Manual,0\\r\\netios g,2014,4.1,6.8,39485,Petrol,Dealer,Manual,1\\r\\nfortuner,2014,19.99,35.96,41000,Diesel,Dealer,Automatic,0\\r\\ncorolla altis,2013,6.95,18.61,40001,Petrol,Dealer,Manual,0\\r\\netios cross,2015,4.5,7.7,40588,Petrol,Dealer,Manual,0\\r\\nfortuner,2014,18.75,35.96,78000,Diesel,Dealer,Automatic,0\\r\\nfortuner,2015,23.5,35.96,47000,Diesel,Dealer,Automatic,0\\r\\nfortuner,2017,33,36.23,6000,Diesel,Dealer,Automatic,0\\r\\netios liva,2014,4.75,6.95,45000,Diesel,Dealer,Manual,0\\r\\ninnova,2017,19.75,23.15,11000,Petrol,Dealer,Automatic,0\\r\\nfortuner,2010,9.25,20.45,59000,Diesel,Dealer,Manual,0\\r\\ncorolla altis,2011,4.35,13.74,88000,Petrol,Dealer,Manual,0\\r\\ncorolla altis,2016,14.25,20.91,12000,Petrol,Dealer,Manual,0\\r\\netios liva,2014,3.95,6.76,71000,Diesel,Dealer,Manual,0\\r\\ncorolla altis,2011,4.5,12.48,45000,Diesel,Dealer,Manual,0\\r\\ncorolla altis,2013,7.45,18.61,56001,Petrol,Dealer,Manual,0\\r\\netios liva,2011,2.65,5.71,43000,Petrol,Dealer,Manual,0\\r\\netios cross,2014,4.9,8.93,83000,Diesel,Dealer,Manual,0\\r\\netios g,2015,3.95,6.8,36000,Petrol,Dealer,Manual,0\\r\\ncorolla altis,2013,5.5,14.68,72000,Petrol,Dealer,Manual,0\\r\\ncorolla,2004,1.5,12.35,135154,Petrol,Dealer,Automatic,0\\r\\ncorolla altis,2010,5.25,22.83,80000,Petrol,Dealer,Automatic,0\\r\\nfortuner,2012,14.5,30.61,89000,Diesel,Dealer,Automatic,0\\r\\ncorolla altis,2016,14.73,14.89,23000,Diesel,Dealer,Manual,0\\r\\netios gd,2015,4.75,7.85,40000,Diesel,Dealer,Manual,0\\r\\ninnova,2017,23,25.39,15000,Diesel,Dealer,Automatic,0\\r\\ninnova,2015,12.5,13.46,38000,Diesel,Dealer,Manual,0\\r\\ninnova,2005,3.49,13.46,197176,Diesel,Dealer,Manual,0\\r\\ncamry,2006,2.5,23.73,142000,Petrol,Individual,Automatic,3\\r\\nland cruiser,2010,35,92.6,78000,Diesel,Dealer,Manual,0\\r\\ncorolla altis,2012,5.9,13.74,56000,Petrol,Dealer,Manual,0\\r\\netios liva,2013,3.45,6.05,47000,Petrol,Dealer,Manual,0\\r\\netios g,2014,4.75,6.76,40000,Petrol,Dealer,Manual,0\\r\\ncorolla altis,2009,3.8,18.61,62000,Petrol,Dealer,Manual,0\\r\\ninnova,2014,11.25,16.09,58242,Diesel,Dealer,Manual,0\\r\\ninnova,2005,3.51,13.7,75000,Petrol,Dealer,Manual,0\\r\\nfortuner,2015,23,30.61,40000,Diesel,Dealer,Automatic,0\\r\\ncorolla altis,2008,4,22.78,89000,Petrol,Dealer,Automatic,0\\r\\ncorolla altis,2012,5.85,18.61,72000,Petrol,Dealer,Manual,0\\r\\ninnova,2016,20.75,25.39,29000,Diesel,Dealer,Automatic,0\\r\\ncorolla altis,2017,17,18.64,8700,Petrol,Dealer,Manual,0\\r\\ncorolla altis,2013,7.05,18.61,45000,Petrol,Dealer,Manual,0\\r\\nfortuner,2010,9.65,20.45,50024,Diesel,Dealer,Manual,0\\r\\nRoyal Enfield Thunder 500,2016,1.75,1.9,3000,Petrol,Individual,Manual,0\\r\\nUM Renegade Mojave,2017,1.7,1.82,1400,Petrol,Individual,Manual,0\\r\\nKTM RC200,2017,1.65,1.78,4000,Petrol,Individual,Manual,0\\r\\nBajaj Dominar 400,2017,1.45,1.6,1200,Petrol,Individual,Manual,0\\r\\nRoyal Enfield Classic 350,2017,1.35,1.47,4100,Petrol,Individual,Manual,0\\r\\nKTM RC390,2015,1.35,2.37,21700,Petrol,Individual,Manual,0\\r\\nHyosung GT250R,2014,1.35,3.45,16500,Petrol,Individual,Manual,1\\r\\nRoyal Enfield Thunder 350,2013,1.25,1.5,15000,Petrol,Individual,Manual,0\\r\\nRoyal Enfield Thunder 350,2016,1.2,1.5,18000,Petrol,Individual,Manual,0\\r\\nRoyal Enfield Classic 350,2017,1.2,1.47,11000,Petrol,Individual,Manual,0\\r\\nKTM RC200,2016,1.2,1.78,6000,Petrol,Individual,Manual,0\\r\\nRoyal Enfield Thunder 350,2016,1.15,1.5,8700,Petrol,Individual,Manual,0\\r\\nKTM 390 Duke ,2014,1.15,2.4,7000,Petrol,Individual,Manual,0\\r\\nMahindra Mojo XT300,2016,1.15,1.4,35000,Petrol,Individual,Manual,0\\r\\nRoyal Enfield Classic 350,2015,1.15,1.47,17000,Petrol,Individual,Manual,0\\r\\nRoyal Enfield Classic 350,2015,1.11,1.47,17500,Petrol,Individual,Manual,0\\r\\nRoyal Enfield Classic 350,2013,1.1,1.47,33000,Petrol,Individual,Manual,0\\r\\nRoyal Enfield Thunder 500,2015,1.1,1.9,14000,Petrol,Individual,Manual,0\\r\\nRoyal Enfield Classic 350,2015,1.1,1.47,26000,Petrol,Individual,Manual,0\\r\\nRoyal Enfield Thunder 500,2013,1.05,1.9,5400,Petrol,Individual,Manual,0\\r\\nBajaj Pulsar RS200,2016,1.05,1.26,5700,Petrol,Individual,Manual,0\\r\\nRoyal Enfield Thunder 350,2011,1.05,1.5,6900,Petrol,Individual,Manual,0\\r\\nRoyal Enfield Bullet 350,2016,1.05,1.17,6000,Petrol,Individual,Manual,0\\r\\nRoyal Enfield Classic 350,2013,1,1.47,46500,Petrol,Individual,Manual,0\\r\\nRoyal Enfield Classic 500,2012,0.95,1.75,11500,Petrol,Individual,Manual,0\\r\\nRoyal Enfield Classic 500,2009,0.9,1.75,40000,Petrol,Individual,Manual,0\\r\\nBajaj Avenger 220,2017,0.9,0.95,1300,Petrol,Individual,Manual,0\\r\\nBajaj Avenger 150,2016,0.75,0.8,7000,Petrol,Individual,Manual,0\\r\\nHonda CB Hornet 160R,2017,0.8,0.87,3000,Petrol,Individual,Manual,0\\r\\nYamaha FZ S V 2.0,2017,0.78,0.84,5000,Petrol,Individual,Manual,0\\r\\nHonda CB Hornet 160R,2017,0.75,0.87,11000,Petrol,Individual,Manual,0\\r\\nYamaha FZ 16,2015,0.75,0.82,18000,Petrol,Individual,Manual,0\\r\\nBajaj Avenger 220,2017,0.75,0.95,3500,Petrol,Individual,Manual,0\\r\\nBajaj Avenger 220,2016,0.72,0.95,500,Petrol,Individual,Manual,0\\r\\nTVS Apache RTR 160,2017,0.65,0.81,11800,Petrol,Individual,Manual,0\\r\\nBajaj Pulsar 150,2015,0.65,0.74,5000,Petrol,Individual,Manual,0\\r\\nHonda CBR 150,2014,0.65,1.2,23500,Petrol,Individual,Manual,0\\r\\nHero Extreme,2013,0.65,0.787,16000,Petrol,Individual,Manual,0\\r\\nHonda CB Hornet 160R,2016,0.6,0.87,15000,Petrol,Individual,Manual,0\\r\\nBajaj Avenger 220 dtsi,2015,0.6,0.95,16600,Petrol,Individual,Manual,0\\r\\nHonda CBR 150,2013,0.6,1.2,32000,Petrol,Individual,Manual,0\\r\\nBajaj Avenger 150 street,2016,0.6,0.8,20000,Petrol,Individual,Manual,0\\r\\nYamaha FZ  v 2.0,2015,0.6,0.84,29000,Petrol,Individual,Manual,0\\r\\nYamaha FZ  v 2.0,2016,0.6,0.84,25000,Petrol,Individual,Manual,0\\r\\nBajaj Pulsar  NS 200,2014,0.6,0.99,25000,Petrol,Individual,Manual,0\\r\\nTVS Apache RTR 160,2012,0.6,0.81,19000,Petrol,Individual,Manual,0\\r\\nHero Extreme,2014,0.55,0.787,15000,Petrol,Individual,Manual,0\\r\\nYamaha FZ S V 2.0,2015,0.55,0.84,58000,Petrol,Individual,Manual,0\\r\\nBajaj Pulsar 220 F,2010,0.52,0.94,45000,Petrol,Individual,Manual,0\\r\\nBajaj Pulsar 220 F,2016,0.51,0.94,24000,Petrol,Individual,Manual,0\\r\\nTVS Apache RTR 180,2011,0.5,0.826,6000,Petrol,Individual,Manual,0\\r\\nHero Passion X pro,2016,0.5,0.55,31000,Petrol,Individual,Manual,0\\r\\nBajaj Pulsar NS 200,2012,0.5,0.99,13000,Petrol,Individual,Manual,0\\r\\nBajaj Pulsar NS 200,2013,0.5,0.99,45000,Petrol,Individual,Manual,0\\r\\nYamaha Fazer ,2014,0.5,0.88,8000,Petrol,Individual,Manual,0\\r\\nHonda Activa 4G,2017,0.48,0.51,4300,Petrol,Individual,Automatic,0\\r\\nTVS Sport ,2017,0.48,0.52,15000,Petrol,Individual,Manual,0\\r\\nYamaha FZ S V 2.0,2015,0.48,0.84,23000,Petrol,Individual,Manual,0\\r\\nHonda Dream Yuga ,2017,0.48,0.54,8600,Petrol,Individual,Manual,0\\r\\nHonda Activa 4G,2017,0.45,0.51,4000,Petrol,Individual,Automatic,0\\r\\nBajaj Avenger Street 220,2011,0.45,0.95,24000,Petrol,Individual,Manual,0\\r\\nTVS Apache RTR 180,2014,0.45,0.826,23000,Petrol,Individual,Manual,0\\r\\nBajaj Pulsar NS 200,2012,0.45,0.99,14500,Petrol,Individual,Manual,0\\r\\nBajaj Avenger 220 dtsi,2010,0.45,0.95,27000,Petrol,Individual,Manual,0\\r\\nHero Splender iSmart,2016,0.45,0.54,14000,Petrol,Individual,Manual,0\\r\\nActiva 3g,2016,0.45,0.54,500,Petrol,Individual,Automatic,0\\r\\nHero Passion Pro,2016,0.45,0.55,1000,Petrol,Individual,Manual,0\\r\\nTVS Apache RTR 160,2014,0.42,0.81,42000,Petrol,Individual,Manual,0\\r\\nHonda CB Trigger,2013,0.42,0.73,12000,Petrol,Individual,Manual,0\\r\\nHero Splender iSmart,2015,0.4,0.54,14000,Petrol,Individual,Manual,0\\r\\nYamaha FZ S ,2012,0.4,0.83,5500,Petrol,Individual,Manual,0\\r\\nHero Passion Pro,2015,0.4,0.55,6700,Petrol,Individual,Manual,0\\r\\nBajaj Pulsar 135 LS,2014,0.4,0.64,13700,Petrol,Individual,Manual,0\\r\\nActiva 4g,2017,0.4,0.51,1300,Petrol,Individual,Automatic,0\\r\\nHonda CB Unicorn,2015,0.38,0.72,38600,Petrol,Individual,Manual,0\\r\\nHero Honda CBZ extreme,2011,0.38,0.787,75000,Petrol,Individual,Manual,0\\r\\nHonda Karizma,2011,0.35,1.05,30000,Petrol,Individual,Manual,0\\r\\nHonda Activa 125,2016,0.35,0.57,24000,Petrol,Individual,Automatic,0\\r\\nTVS Jupyter,2014,0.35,0.52,19000,Petrol,Individual,Automatic,0\\r\\nHonda Karizma,2010,0.31,1.05,213000,Petrol,Individual,Manual,0\\r\\nHero Honda Passion Pro,2012,0.3,0.51,60000,Petrol,Individual,Manual,0\\r\\nHero Splender Plus,2016,0.3,0.48,50000,Petrol,Individual,Manual,0\\r\\nHonda CB Shine,2013,0.3,0.58,30000,Petrol,Individual,Manual,0\\r\\nBajaj Discover 100,2013,0.27,0.47,21000,Petrol,Individual,Manual,0\\r\\nBajaj Pulsar 150,2008,0.25,0.75,26000,Petrol,Individual,Manual,1\\r\\nSuzuki Access 125,2008,0.25,0.58,1900,Petrol,Individual,Automatic,0\\r\\nTVS Wego,2010,0.25,0.52,22000,Petrol,Individual,Automatic,0\\r\\nHonda CB twister,2013,0.25,0.51,32000,Petrol,Individual,Manual,0\\r\\nHero Glamour,2013,0.25,0.57,18000,Petrol,Individual,Manual,0\\r\\nHero Super Splendor,2005,0.2,0.57,55000,Petrol,Individual,Manual,0\\r\\nBajaj Pulsar 150,2008,0.2,0.75,60000,Petrol,Individual,Manual,0\\r\\nBajaj Discover 125,2012,0.2,0.57,25000,Petrol,Individual,Manual,1\\r\\nHero Hunk,2007,0.2,0.75,49000,Petrol,Individual,Manual,1\\r\\nHero  Ignitor Disc,2013,0.2,0.65,24000,Petrol,Individual,Manual,1\\r\\nHero  CBZ Xtreme,2008,0.2,0.787,50000,Petrol,Individual,Manual,0\\r\\nBajaj  ct 100,2015,0.18,0.32,35000,Petrol,Individual,Manual,0\\r\\nActiva 3g,2008,0.17,0.52,500000,Petrol,Individual,Automatic,0\\r\\nHonda CB twister,2010,0.16,0.51,33000,Petrol,Individual,Manual,0\\r\\nBajaj Discover 125,2011,0.15,0.57,35000,Petrol,Individual,Manual,1\\r\\nHonda CB Shine,2007,0.12,0.58,53000,Petrol,Individual,Manual,0\\r\\nBajaj Pulsar 150,2006,0.1,0.75,92233,Petrol,Individual,Manual,0\\r\\ni20,2010,3.25,6.79,58000,Diesel,Dealer,Manual,1\\r\\ngrand i10,2015,4.4,5.7,28200,Petrol,Dealer,Manual,0\\r\\ni10,2011,2.95,4.6,53460,Petrol,Dealer,Manual,0\\r\\neon,2015,2.75,4.43,28282,Petrol,Dealer,Manual,0\\r\\ngrand i10,2016,5.25,5.7,3493,Petrol,Dealer,Manual,1\\r\\nxcent,2017,5.75,7.13,12479,Petrol,Dealer,Manual,0\\r\\ngrand i10,2015,5.15,5.7,34797,Petrol,Dealer,Automatic,0\\r\\ni20,2017,7.9,8.1,3435,Petrol,Dealer,Manual,0\\r\\ngrand i10,2015,4.85,5.7,21125,Diesel,Dealer,Manual,0\\r\\ni10,2012,3.1,4.6,35775,Petrol,Dealer,Manual,0\\r\\nelantra,2015,11.75,14.79,43535,Diesel,Dealer,Manual,0\\r\\ncreta,2016,11.25,13.6,22671,Petrol,Dealer,Manual,0\\r\\ni20,2011,2.9,6.79,31604,Petrol,Dealer,Manual,0\\r\\ngrand i10,2017,5.25,5.7,20114,Petrol,Dealer,Manual,0\\r\\nverna,2012,4.5,9.4,36100,Petrol,Dealer,Manual,0\\r\\neon,2016,2.9,4.43,12500,Petrol,Dealer,Manual,0\\r\\neon,2016,3.15,4.43,15000,Petrol,Dealer,Manual,0\\r\\nverna,2014,6.45,9.4,45078,Petrol,Dealer,Manual,0\\r\\nverna,2012,4.5,9.4,36000,Petrol,Dealer,Manual,0\\r\\neon,2017,3.5,4.43,38488,Petrol,Dealer,Manual,0\\r\\ni20,2013,4.5,6.79,32000,Petrol,Dealer,Automatic,0\\r\\ni20,2014,6,7.6,77632,Diesel,Dealer,Manual,0\\r\\nverna,2015,8.25,9.4,61381,Diesel,Dealer,Manual,0\\r\\nverna,2013,5.11,9.4,36198,Petrol,Dealer,Automatic,0\\r\\ni10,2011,2.7,4.6,22517,Petrol,Dealer,Manual,0\\r\\ngrand i10,2015,5.25,5.7,24678,Petrol,Dealer,Manual,0\\r\\ni10,2011,2.55,4.43,57000,Petrol,Dealer,Manual,0\\r\\nverna,2012,4.95,9.4,60000,Diesel,Dealer,Manual,0\\r\\ni20,2012,3.1,6.79,52132,Diesel,Dealer,Manual,0\\r\\nverna,2013,6.15,9.4,45000,Diesel,Dealer,Manual,0\\r\\nverna,2017,9.25,9.4,15001,Petrol,Dealer,Manual,0\\r\\nelantra,2015,11.45,14.79,12900,Petrol,Dealer,Automatic,0\\r\\ngrand i10,2013,3.9,5.7,53000,Diesel,Dealer,Manual,0\\r\\ngrand i10,2015,5.5,5.7,4492,Petrol,Dealer,Manual,0\\r\\nverna,2017,9.1,9.4,15141,Petrol,Dealer,Manual,0\\r\\neon,2016,3.1,4.43,11849,Petrol,Dealer,Manual,0\\r\\ncreta,2015,11.25,13.6,68000,Diesel,Dealer,Manual,0\\r\\nverna,2013,4.8,9.4,60241,Petrol,Dealer,Manual,0\\r\\neon,2012,2,4.43,23709,Petrol,Dealer,Manual,0\\r\\nverna,2012,5.35,9.4,32322,Diesel,Dealer,Manual,0\\r\\nxcent,2015,4.75,7.13,35866,Petrol,Dealer,Manual,1\\r\\nxcent,2014,4.4,7.13,34000,Petrol,Dealer,Manual,0\\r\\ni20,2016,6.25,7.6,7000,Petrol,Dealer,Manual,0\\r\\nverna,2013,5.95,9.4,49000,Diesel,Dealer,Manual,0\\r\\nverna,2012,5.2,9.4,71000,Diesel,Dealer,Manual,0\\r\\ni20,2012,3.75,6.79,35000,Petrol,Dealer,Manual,0\\r\\nverna,2015,5.95,9.4,36000,Petrol,Dealer,Manual,0\\r\\ni10,2013,4,4.6,30000,Petrol,Dealer,Manual,0\\r\\ni20,2016,5.25,7.6,17000,Petrol,Dealer,Manual,0\\r\\ncreta,2016,12.9,13.6,35934,Diesel,Dealer,Manual,0\\r\\ncity,2013,5,9.9,56701,Petrol,Dealer,Manual,0\\r\\nbrio,2015,5.4,6.82,31427,Petrol,Dealer,Automatic,0\\r\\ncity,2014,7.2,9.9,48000,Diesel,Dealer,Manual,0\\r\\ncity,2013,5.25,9.9,54242,Petrol,Dealer,Manual,0\\r\\nbrio,2012,3,5.35,53675,Petrol,Dealer,Manual,0\\r\\ncity,2016,10.25,13.6,49562,Petrol,Dealer,Manual,0\\r\\ncity,2015,8.5,13.6,40324,Petrol,Dealer,Manual,0\\r\\ncity,2015,8.4,13.6,25000,Petrol,Dealer,Manual,0\\r\\namaze,2014,3.9,7,36054,Petrol,Dealer,Manual,0\\r\\ncity,2016,9.15,13.6,29223,Petrol,Dealer,Manual,0\\r\\nbrio,2016,5.5,5.97,5600,Petrol,Dealer,Manual,0\\r\\namaze,2015,4,5.8,40023,Petrol,Dealer,Manual,0\\r\\njazz,2016,6.6,7.7,16002,Petrol,Dealer,Manual,0\\r\\namaze,2015,4,7,40026,Petrol,Dealer,Manual,0\\r\\njazz,2017,6.5,8.7,21200,Petrol,Dealer,Manual,0\\r\\namaze,2014,3.65,7,35000,Petrol,Dealer,Manual,0\\r\\ncity,2016,8.35,9.4,19434,Diesel,Dealer,Manual,0\\r\\nbrio,2017,4.8,5.8,19000,Petrol,Dealer,Manual,0\\r\\ncity,2015,6.7,10,18828,Petrol,Dealer,Manual,0\\r\\ncity,2011,4.1,10,69341,Petrol,Dealer,Manual,0\\r\\ncity,2009,3,10,69562,Petrol,Dealer,Manual,0\\r\\ncity,2015,7.5,10,27600,Petrol,Dealer,Manual,0\\r\\njazz,2010,2.25,7.5,61203,Petrol,Dealer,Manual,0\\r\\nbrio,2014,5.3,6.8,16500,Petrol,Dealer,Manual,0\\r\\ncity,2016,10.9,13.6,30753,Petrol,Dealer,Automatic,0\\r\\ncity,2015,8.65,13.6,24800,Petrol,Dealer,Manual,0\\r\\ncity,2015,9.7,13.6,21780,Petrol,Dealer,Manual,0\\r\\njazz,2016,6,8.4,4000,Petrol,Dealer,Manual,0\\r\\ncity,2014,6.25,13.6,40126,Petrol,Dealer,Manual,0\\r\\nbrio,2015,5.25,5.9,14465,Petrol,Dealer,Manual,0\\r\\ncity,2006,2.1,7.6,50456,Petrol,Dealer,Manual,0\\r\\ncity,2014,8.25,14,63000,Diesel,Dealer,Manual,0\\r\\ncity,2016,8.99,11.8,9010,Petrol,Dealer,Manual,0\\r\\nbrio,2013,3.5,5.9,9800,Petrol,Dealer,Manual,0\\r\\njazz,2016,7.4,8.5,15059,Petrol,Dealer,Automatic,0\\r\\njazz,2016,5.65,7.9,28569,Petrol,Dealer,Manual,0\\r\\namaze,2015,5.75,7.5,44000,Petrol,Dealer,Automatic,0\\r\\ncity,2015,8.4,13.6,34000,Petrol,Dealer,Manual,0\\r\\ncity,2016,10.11,13.6,10980,Petrol,Dealer,Manual,0\\r\\namaze,2014,4.5,6.4,19000,Petrol,Dealer,Manual,0\\r\\nbrio,2015,5.4,6.1,31427,Petrol,Dealer,Manual,0\\r\\njazz,2016,6.4,8.4,12000,Petrol,Dealer,Manual,0\\r\\ncity,2010,3.25,9.9,38000,Petrol,Dealer,Manual,0\\r\\namaze,2014,3.75,6.8,33019,Petrol,Dealer,Manual,0\\r\\ncity,2015,8.55,13.09,60076,Diesel,Dealer,Manual,0\\r\\ncity,2016,9.5,11.6,33988,Diesel,Dealer,Manual,0\\r\\nbrio,2015,4,5.9,60000,Petrol,Dealer,Manual,0\\r\\ncity,2009,3.35,11,87934,Petrol,Dealer,Manual,0\\r\\ncity,2017,11.5,12.5,9000,Diesel,Dealer,Manual,0\\r\\nbrio,2016,5.3,5.9,5464,Petrol,Dealer,Manual,0\\r\\n'}"
            ]
          },
          "metadata": {},
          "execution_count": 12
        }
      ]
    },
    {
      "cell_type": "code",
      "source": [
        "CarData = spark.read.csv('car_data.csv',inferSchema=True, header=True)\n"
      ],
      "metadata": {
        "id": "3Fw6WsIz7eKn"
      },
      "execution_count": 15,
      "outputs": []
    },
    {
      "cell_type": "code",
      "source": [
        "# Shape of the dataset.\n",
        "print(\" Shape : \",\n",
        "      CarData.count(),\n",
        "      len(CarData.columns))\n",
        "\n",
        "# Head 10 observations \n",
        "CarData.show(10)"
      ],
      "metadata": {
        "colab": {
          "base_uri": "https://localhost:8080/"
        },
        "id": "B6xWKg908oZq",
        "outputId": "c94a07a9-144d-4b18-cc4b-e25542a507a9"
      },
      "execution_count": 17,
      "outputs": [
        {
          "output_type": "stream",
          "name": "stdout",
          "text": [
            " Shape :  301 9\n",
            "+-------------+----+-------------+-------------+----------+---------+-----------+------------+-----+\n",
            "|     Car_Name|Year|Selling_Price|Present_Price|Kms_Driven|Fuel_Type|Seller_Type|Transmission|Owner|\n",
            "+-------------+----+-------------+-------------+----------+---------+-----------+------------+-----+\n",
            "|         ritz|2014|         3.35|         5.59|     27000|   Petrol|     Dealer|      Manual|    0|\n",
            "|          sx4|2013|         4.75|         9.54|     43000|   Diesel|     Dealer|      Manual|    0|\n",
            "|         ciaz|2017|         7.25|         9.85|      6900|   Petrol|     Dealer|      Manual|    0|\n",
            "|      wagon r|2011|         2.85|         4.15|      5200|   Petrol|     Dealer|      Manual|    0|\n",
            "|        swift|2014|          4.6|         6.87|     42450|   Diesel|     Dealer|      Manual|    0|\n",
            "|vitara brezza|2018|         9.25|         9.83|      2071|   Diesel|     Dealer|      Manual|    0|\n",
            "|         ciaz|2015|         6.75|         8.12|     18796|   Petrol|     Dealer|      Manual|    0|\n",
            "|      s cross|2015|          6.5|         8.61|     33429|   Diesel|     Dealer|      Manual|    0|\n",
            "|         ciaz|2016|         8.75|         8.89|     20273|   Diesel|     Dealer|      Manual|    0|\n",
            "|         ciaz|2015|         7.45|         8.92|     42367|   Diesel|     Dealer|      Manual|    0|\n",
            "+-------------+----+-------------+-------------+----------+---------+-----------+------------+-----+\n",
            "only showing top 10 rows\n",
            "\n"
          ]
        }
      ]
    },
    {
      "cell_type": "code",
      "source": [
        "# Data Description\n",
        "CarData.describe().show()\n",
        "\n",
        "# Dataframe schema \n",
        "CarData.printSchema()"
      ],
      "metadata": {
        "colab": {
          "base_uri": "https://localhost:8080/"
        },
        "id": "Qk8tdFml9Oho",
        "outputId": "e076ed5b-78fc-4f5b-b218-561b4f0e301f"
      },
      "execution_count": 19,
      "outputs": [
        {
          "output_type": "stream",
          "name": "stdout",
          "text": [
            "+-------+--------+------------------+-----------------+-----------------+-----------------+---------+-----------+------------+-------------------+\n",
            "|summary|Car_Name|              Year|    Selling_Price|    Present_Price|       Kms_Driven|Fuel_Type|Seller_Type|Transmission|              Owner|\n",
            "+-------+--------+------------------+-----------------+-----------------+-----------------+---------+-----------+------------+-------------------+\n",
            "|  count|     301|               301|              301|              301|              301|      301|        301|         301|                301|\n",
            "|   mean|   800.0|2013.6279069767443|4.661295681063127|7.628471760797344|36947.20598006644|     null|       null|        null|0.04318936877076412|\n",
            "| stddev|     NaN|2.8915541273367253|5.082811556177805|8.644115402015789|38886.88388206789|     null|       null|        null| 0.2479148926949198|\n",
            "|    min|     800|              2003|              0.1|             0.32|              500|      CNG|     Dealer|   Automatic|                  0|\n",
            "|    max|   xcent|              2018|             35.0|             92.6|           500000|   Petrol| Individual|      Manual|                  3|\n",
            "+-------+--------+------------------+-----------------+-----------------+-----------------+---------+-----------+------------+-------------------+\n",
            "\n",
            "root\n",
            " |-- Car_Name: string (nullable = true)\n",
            " |-- Year: integer (nullable = true)\n",
            " |-- Selling_Price: double (nullable = true)\n",
            " |-- Present_Price: double (nullable = true)\n",
            " |-- Kms_Driven: integer (nullable = true)\n",
            " |-- Fuel_Type: string (nullable = true)\n",
            " |-- Seller_Type: string (nullable = true)\n",
            " |-- Transmission: string (nullable = true)\n",
            " |-- Owner: integer (nullable = true)\n",
            "\n"
          ]
        }
      ]
    },
    {
      "cell_type": "markdown",
      "source": [
        "# **PHASE - 3 Exploratory Data Analysis**"
      ],
      "metadata": {
        "id": "Qf50i5I2-vjV"
      }
    },
    {
      "cell_type": "code",
      "source": [
        "# Helper library to plot graphs\n",
        "!pip install handyspark"
      ],
      "metadata": {
        "colab": {
          "base_uri": "https://localhost:8080/",
          "height": 667
        },
        "id": "8QCryojr-1yU",
        "outputId": "1b5cb39c-e4d3-4df5-835e-bfa48d675637"
      },
      "execution_count": 21,
      "outputs": [
        {
          "output_type": "stream",
          "name": "stdout",
          "text": [
            "Looking in indexes: https://pypi.org/simple, https://us-python.pkg.dev/colab-wheels/public/simple/\n",
            "Collecting handyspark\n",
            "  Downloading handyspark-0.2.2a1-py2.py3-none-any.whl (39 kB)\n",
            "Requirement already satisfied: findspark in /usr/local/lib/python3.8/dist-packages (from handyspark) (2.0.1)\n",
            "Requirement already satisfied: matplotlib in /usr/local/lib/python3.8/dist-packages (from handyspark) (3.2.2)\n",
            "Requirement already satisfied: scipy in /usr/local/lib/python3.8/dist-packages (from handyspark) (1.7.3)\n",
            "Requirement already satisfied: scikit-learn in /usr/local/lib/python3.8/dist-packages (from handyspark) (1.0.2)\n",
            "Requirement already satisfied: pyarrow in /usr/local/lib/python3.8/dist-packages (from handyspark) (9.0.0)\n",
            "Collecting pyspark\n",
            "  Downloading pyspark-3.3.1.tar.gz (281.4 MB)\n",
            "\u001b[K     |████████████████████████████████| 281.4 MB 46 kB/s \n",
            "\u001b[?25hRequirement already satisfied: numpy in /usr/local/lib/python3.8/dist-packages (from handyspark) (1.21.6)\n",
            "Requirement already satisfied: seaborn in /usr/local/lib/python3.8/dist-packages (from handyspark) (0.11.2)\n",
            "Requirement already satisfied: pandas in /usr/local/lib/python3.8/dist-packages (from handyspark) (1.3.5)\n",
            "Requirement already satisfied: kiwisolver>=1.0.1 in /usr/local/lib/python3.8/dist-packages (from matplotlib->handyspark) (1.4.4)\n",
            "Requirement already satisfied: python-dateutil>=2.1 in /usr/local/lib/python3.8/dist-packages (from matplotlib->handyspark) (2.8.2)\n",
            "Requirement already satisfied: cycler>=0.10 in /usr/local/lib/python3.8/dist-packages (from matplotlib->handyspark) (0.11.0)\n",
            "Requirement already satisfied: pyparsing!=2.0.4,!=2.1.2,!=2.1.6,>=2.0.1 in /usr/local/lib/python3.8/dist-packages (from matplotlib->handyspark) (3.0.9)\n",
            "Requirement already satisfied: six>=1.5 in /usr/local/lib/python3.8/dist-packages (from python-dateutil>=2.1->matplotlib->handyspark) (1.15.0)\n",
            "Requirement already satisfied: pytz>=2017.3 in /usr/local/lib/python3.8/dist-packages (from pandas->handyspark) (2022.6)\n",
            "Collecting py4j==0.10.9.5\n",
            "  Downloading py4j-0.10.9.5-py2.py3-none-any.whl (199 kB)\n",
            "\u001b[K     |████████████████████████████████| 199 kB 48.8 MB/s \n",
            "\u001b[?25hRequirement already satisfied: threadpoolctl>=2.0.0 in /usr/local/lib/python3.8/dist-packages (from scikit-learn->handyspark) (3.1.0)\n",
            "Requirement already satisfied: joblib>=0.11 in /usr/local/lib/python3.8/dist-packages (from scikit-learn->handyspark) (1.2.0)\n",
            "Building wheels for collected packages: pyspark\n",
            "  Building wheel for pyspark (setup.py) ... \u001b[?25l\u001b[?25hdone\n",
            "  Created wheel for pyspark: filename=pyspark-3.3.1-py2.py3-none-any.whl size=281845512 sha256=4a28e7853345366bccaa236e7def82cbb2c3e557ea7544693b009ae0d961cf18\n",
            "  Stored in directory: /root/.cache/pip/wheels/43/dc/11/ec201cd671da62fa9c5cc77078235e40722170ceba231d7598\n",
            "Successfully built pyspark\n",
            "Installing collected packages: py4j, pyspark, handyspark\n",
            "Successfully installed handyspark-0.2.2a1 py4j-0.10.9.5 pyspark-3.3.1\n"
          ]
        },
        {
          "output_type": "display_data",
          "data": {
            "application/vnd.colab-display-data+json": {
              "pip_warning": {
                "packages": [
                  "py4j",
                  "pyspark"
                ]
              }
            }
          },
          "metadata": {}
        }
      ]
    },
    {
      "cell_type": "code",
      "source": [
        "from handyspark import *  "
      ],
      "metadata": {
        "id": "BZRTPckEAOve"
      },
      "execution_count": 22,
      "outputs": []
    },
    {
      "cell_type": "code",
      "source": [
        "# Converting to handyspark CarData\n",
        "hdf = CarData.toHandy()\n",
        "hdf.show()"
      ],
      "metadata": {
        "colab": {
          "base_uri": "https://localhost:8080/"
        },
        "id": "u__JZmeFAS1z",
        "outputId": "066e496a-9f37-49b4-8ff5-d6943d9f17ce"
      },
      "execution_count": 24,
      "outputs": [
        {
          "output_type": "stream",
          "name": "stdout",
          "text": [
            "+-------------+----+-------------+-------------+----------+---------+-----------+------------+-----+\n",
            "|     Car_Name|Year|Selling_Price|Present_Price|Kms_Driven|Fuel_Type|Seller_Type|Transmission|Owner|\n",
            "+-------------+----+-------------+-------------+----------+---------+-----------+------------+-----+\n",
            "|         ritz|2014|         3.35|         5.59|     27000|   Petrol|     Dealer|      Manual|    0|\n",
            "|          sx4|2013|         4.75|         9.54|     43000|   Diesel|     Dealer|      Manual|    0|\n",
            "|         ciaz|2017|         7.25|         9.85|      6900|   Petrol|     Dealer|      Manual|    0|\n",
            "|      wagon r|2011|         2.85|         4.15|      5200|   Petrol|     Dealer|      Manual|    0|\n",
            "|        swift|2014|          4.6|         6.87|     42450|   Diesel|     Dealer|      Manual|    0|\n",
            "|vitara brezza|2018|         9.25|         9.83|      2071|   Diesel|     Dealer|      Manual|    0|\n",
            "|         ciaz|2015|         6.75|         8.12|     18796|   Petrol|     Dealer|      Manual|    0|\n",
            "|      s cross|2015|          6.5|         8.61|     33429|   Diesel|     Dealer|      Manual|    0|\n",
            "|         ciaz|2016|         8.75|         8.89|     20273|   Diesel|     Dealer|      Manual|    0|\n",
            "|         ciaz|2015|         7.45|         8.92|     42367|   Diesel|     Dealer|      Manual|    0|\n",
            "|     alto 800|2017|         2.85|          3.6|      2135|   Petrol|     Dealer|      Manual|    0|\n",
            "|         ciaz|2015|         6.85|        10.38|     51000|   Diesel|     Dealer|      Manual|    0|\n",
            "|         ciaz|2015|          7.5|         9.94|     15000|   Petrol|     Dealer|   Automatic|    0|\n",
            "|       ertiga|2015|          6.1|         7.71|     26000|   Petrol|     Dealer|      Manual|    0|\n",
            "|        dzire|2009|         2.25|         7.21|     77427|   Petrol|     Dealer|      Manual|    0|\n",
            "|       ertiga|2016|         7.75|        10.79|     43000|   Diesel|     Dealer|      Manual|    0|\n",
            "|       ertiga|2015|         7.25|        10.79|     41678|   Diesel|     Dealer|      Manual|    0|\n",
            "|       ertiga|2016|         7.75|        10.79|     43000|   Diesel|     Dealer|      Manual|    0|\n",
            "|      wagon r|2015|         3.25|         5.09|     35500|      CNG|     Dealer|      Manual|    0|\n",
            "|          sx4|2010|         2.65|         7.98|     41442|   Petrol|     Dealer|      Manual|    0|\n",
            "+-------------+----+-------------+-------------+----------+---------+-----------+------------+-----+\n",
            "only showing top 20 rows\n",
            "\n"
          ]
        }
      ]
    },
    {
      "cell_type": "code",
      "source": [
        "from matplotlib.patches import colors\n",
        "\n",
        "# EDA-1, Distribution of selling_price of car.\n",
        "fig, ax = plt.subplots(\n",
        "    figsize=(10, 6))\n",
        "hdf.cols['Selling_Price'].hist(ax=ax)\n",
        "plt.show()"
      ],
      "metadata": {
        "colab": {
          "base_uri": "https://localhost:8080/",
          "height": 390
        },
        "id": "gWqQqwihAinw",
        "outputId": "424ff549-4ee1-43f2-8508-3cbf5e34d2d0"
      },
      "execution_count": 30,
      "outputs": [
        {
          "output_type": "display_data",
          "data": {
            "text/plain": [
              "<Figure size 720x432 with 1 Axes>"
            ],
            "image/png": "[encoded data removed]"
          },
          "metadata": {
            "needs_background": "light"
          }
        }
      ]
    },
    {
      "cell_type": "code",
      "source": [
        "# EDA-2, Car transmission mode.\n",
        "\n",
        "fig, ax = plt.subplots(figsize=(10, 7))\n",
        "hdf.cols['Transmission'].hist(ax=ax)\n",
        "plt.show()"
      ],
      "metadata": {
        "colab": {
          "base_uri": "https://localhost:8080/",
          "height": 458
        },
        "id": "Q0UUxO3PBc-i",
        "outputId": "bc21ff4f-5e2e-4272-96da-0b0bcf189d72"
      },
      "execution_count": 34,
      "outputs": [
        {
          "output_type": "display_data",
          "data": {
            "text/plain": [
              "<Figure size 720x504 with 1 Axes>"
            ],
            "image/png": "[encoded data removed]"
          },
          "metadata": {
            "needs_background": "light"
          }
        }
      ]
    },
    {
      "cell_type": "code",
      "source": [
        "# EDA-3, Car Ownership\n",
        "\n",
        "fig, ax = plt.subplots(figsize=(10, 7))\n",
        "hdf.cols['Owner'].hist(ax=ax)\n",
        "plt.show()"
      ],
      "metadata": {
        "colab": {
          "base_uri": "https://localhost:8080/",
          "height": 458
        },
        "id": "AOZFUrR5CmOv",
        "outputId": "9891c735-c213-4c5c-ead7-3db5b9cc2344"
      },
      "execution_count": 36,
      "outputs": [
        {
          "output_type": "display_data",
          "data": {
            "text/plain": [
              "<Figure size 720x504 with 1 Axes>"
            ],
            "image/png": "[encoded data removed]"
          },
          "metadata": {
            "needs_background": "light"
          }
        }
      ]
    },
    {
      "cell_type": "code",
      "source": [
        "# EDA - 4, Is there any relation between selling_price and km_driven variable? \n",
        "\n",
        "fig, ax = plt.subplots(figsize=(10, 7))\n",
        "hdf.cols[['Kms_Driven', 'Selling_Price']].scatterplot(ax=ax)\n",
        "plt.show()"
      ],
      "metadata": {
        "colab": {
          "base_uri": "https://localhost:8080/",
          "height": 443
        },
        "id": "20elD165DbjE",
        "outputId": "7f31d87a-cb48-4165-e093-0cae98409276"
      },
      "execution_count": 43,
      "outputs": [
        {
          "output_type": "display_data",
          "data": {
            "text/plain": [
              "<Figure size 720x504 with 1 Axes>"
            ],
            "image/png": "[encoded data removed]"
          },
          "metadata": {
            "needs_background": "light"
          }
        }
      ]
    },
    {
      "cell_type": "markdown",
      "source": [
        "No linear raltion found between selling price and km_driven variable."
      ],
      "metadata": {
        "id": "E-__5Op2FXrI"
      }
    },
    {
      "cell_type": "code",
      "source": [
        "# EDA - 5, Is there any relation between selling_price and present price variable? \n",
        "\n",
        "fig, ax = plt.subplots(figsize=(10, 7))\n",
        "hdf.cols[['Selling_Price','Present_Price']].scatterplot(ax=ax)\n",
        "plt.show()"
      ],
      "metadata": {
        "colab": {
          "base_uri": "https://localhost:8080/",
          "height": 443
        },
        "id": "D9w18-NxFLHU",
        "outputId": "a7c1dcf9-5df5-48c7-8946-8c189f75ee32"
      },
      "execution_count": 44,
      "outputs": [
        {
          "output_type": "display_data",
          "data": {
            "text/plain": [
              "<Figure size 720x504 with 1 Axes>"
            ],
            "image/png": "[encoded data removed]"
          },
          "metadata": {
            "needs_background": "light"
          }
        }
      ]
    },
    {
      "cell_type": "markdown",
      "source": [
        "There is slight relationship between present price and selling price."
      ],
      "metadata": {
        "id": "xbV9o7EzFg6m"
      }
    },
    {
      "cell_type": "code",
      "source": [
        "# EDA 6, Does car trasmission affects selling_price?\n",
        "\n",
        "hdf.stratify(['Transmission']).cols['Selling_Price'].mean()"
      ],
      "metadata": {
        "colab": {
          "base_uri": "https://localhost:8080/"
        },
        "id": "cxOH-KU6F4Cr",
        "outputId": "b9c1f411-5f74-4f0d-baef-0587683a49f6"
      },
      "execution_count": 49,
      "outputs": [
        {
          "output_type": "execute_result",
          "data": {
            "text/plain": [
              "Transmission\n",
              "Automatic    9.420000\n",
              "Manual       3.931992\n",
              "Name: Selling_Price, dtype: float64"
            ]
          },
          "metadata": {},
          "execution_count": 49
        }
      ]
    },
    {
      "cell_type": "markdown",
      "source": [
        "\n",
        "Mean value for Manual Transmission cars is 3.9 lacs and it is 9.4 lacs for Automatic.\n",
        "\n"
      ],
      "metadata": {
        "id": "jLGr2D7jHG-u"
      }
    },
    {
      "cell_type": "code",
      "source": [
        "hdf.stratify(['Transmission']).cols['Selling_Price'].hist(figsize=(15,7))\n",
        "plt.show()"
      ],
      "metadata": {
        "colab": {
          "base_uri": "https://localhost:8080/",
          "height": 514
        },
        "id": "ODFnq91HHJaE",
        "outputId": "94deb161-2827-4daa-b586-f06ad8677295"
      },
      "execution_count": 50,
      "outputs": [
        {
          "output_type": "display_data",
          "data": {
            "text/plain": [
              "<Figure size 1080x504 with 2 Axes>"
            ],
            "image/png": "[encoded data removed]"
          },
          "metadata": {
            "needs_background": "light"
          }
        }
      ]
    }
  ]
}